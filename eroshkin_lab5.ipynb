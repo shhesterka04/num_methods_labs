{
 "cells": [
  {
   "cell_type": "markdown",
   "metadata": {},
   "source": [
    "# Многочлены Лагранжа"
   ]
  },
  {
   "cell_type": "markdown",
   "metadata": {},
   "source": [
    "# 1. Глобальный способ"
   ]
  },
  {
   "cell_type": "code",
   "execution_count": 1,
   "metadata": {},
   "outputs": [],
   "source": [
    "def lagrange_global(x_points, y_points, x):\n",
    "    def L(k):\n",
    "        term = 1\n",
    "        for i in range(len(x_points)):\n",
    "            if i != k:\n",
    "                term *= (x - x_points[i]) / (x_points[k] - x_points[i])\n",
    "        return term\n",
    "\n",
    "    return sum(y_points[k] * L(k) for k in range(len(x_points)))"
   ]
  },
  {
   "cell_type": "markdown",
   "metadata": {},
   "source": [
    "# 2. Линейная интерполяция\n"
   ]
  },
  {
   "cell_type": "code",
   "execution_count": 2,
   "metadata": {},
   "outputs": [],
   "source": [
    "def linear_interpolation(x_points, y_points, x):\n",
    "    for i in range(len(x_points) - 1):\n",
    "        if x_points[i] <= x <= x_points[i + 1]:\n",
    "            return (y_points[i] * (x_points[i + 1] - x) + y_points[i + 1] * (x - x_points[i])) / (x_points[i + 1] - x_points[i])\n",
    "    return None"
   ]
  },
  {
   "cell_type": "markdown",
   "metadata": {},
   "source": [
    "# 3. Параболическая интерполяция (две усредненных параболы)"
   ]
  },
  {
   "cell_type": "code",
   "execution_count": 3,
   "metadata": {},
   "outputs": [],
   "source": [
    "def parabolic_interpolation(x_points, y_points, x):\n",
    "    def parabola_interp(p_x, p_y, x_val):\n",
    "        # Находим коэффициенты параболы для трёх точек\n",
    "        matrix = [\n",
    "            [p_x[0]**2, p_x[0], 1],\n",
    "            [p_x[1]**2, p_x[1], 1],\n",
    "            [p_x[2]**2, p_x[2], 1]\n",
    "        ]\n",
    "        # Решаем систему линейных уравнений\n",
    "        coefs = solve_linear_system(matrix, p_y)\n",
    "        return coefs[0] * x_val**2 + coefs[1] * x_val + coefs[2]\n",
    "\n",
    "    # Усреднение двух парабол\n",
    "    y1 = parabola_interp(x_points[:3], y_points[:3], x)\n",
    "    y2 = parabola_interp(x_points[1:], y_points[1:], x)\n",
    "    \n",
    "    return (y1 + y2) / 2\n",
    "\n",
    "def solve_linear_system(matrix, vector):\n",
    "    def determinant(mat):\n",
    "        return (mat[0][0]*mat[1][1]*mat[2][2] + mat[0][1]*mat[1][2]*mat[2][0] +\n",
    "                mat[0][2]*mat[1][0]*mat[2][1] - mat[0][2]*mat[1][1]*mat[2][0] -\n",
    "                mat[0][0]*mat[1][2]*mat[2][1] - mat[0][1]*mat[1][0]*mat[2][2])\n",
    "\n",
    "    def substitute_column(mat, col_index, sub_vector):\n",
    "        return [row[:col_index] + [sub_vector[i]] + row[col_index+1:] for i, row in enumerate(mat)]\n",
    "\n",
    "    det = determinant(matrix)\n",
    "    if det == 0:\n",
    "        raise ValueError(\"The system does not have a unique solution\")\n",
    "\n",
    "    return [determinant(substitute_column(matrix, i, vector)) / det for i in range(len(vector))]"
   ]
  },
  {
   "cell_type": "markdown",
   "metadata": {},
   "source": [
    "# Тесты"
   ]
  },
  {
   "cell_type": "code",
   "execution_count": 4,
   "metadata": {},
   "outputs": [
    {
     "name": "stdout",
     "output_type": "stream",
     "text": [
      "Глобальная интерполяция: 6.25\n",
      "Линейная интерполяция: 6.5\n",
      "Параболическая интерполяция: 6.25\n"
     ]
    }
   ],
   "source": [
    "x_points = [1, 2, 3, 4]\n",
    "y_points = [1, 4, 9, 16]\n",
    "\n",
    "# Точка для интерполяции\n",
    "x_to_interpolate = 2.5\n",
    "\n",
    "print(f\"Глобальная интерполяция: {lagrange_global(x_points, y_points, x_to_interpolate)}\")\n",
    "print(f\"Линейная интерполяция: {linear_interpolation(x_points, y_points, x_to_interpolate)}\")\n",
    "print(f\"Параболическая интерполяция: {parabolic_interpolation(x_points, y_points, x_to_interpolate)}\")\n"
   ]
  }
 ],
 "metadata": {
  "kernelspec": {
   "display_name": "Python 3",
   "language": "python",
   "name": "python3"
  },
  "language_info": {
   "codemirror_mode": {
    "name": "ipython",
    "version": 3
   },
   "file_extension": ".py",
   "mimetype": "text/x-python",
   "name": "python",
   "nbconvert_exporter": "python",
   "pygments_lexer": "ipython3",
   "version": "3.10.12"
  }
 },
 "nbformat": 4,
 "nbformat_minor": 2
}
