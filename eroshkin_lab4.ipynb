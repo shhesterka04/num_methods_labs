{
 "cells": [
  {
   "cell_type": "markdown",
   "source": [
    "# Нахождение с помощью характеристического уравнения"
   ],
   "metadata": {
    "collapsed": false
   },
   "id": "e9d72321b2dfc5f3"
  },
  {
   "cell_type": "code",
   "execution_count": 15,
   "outputs": [],
   "source": [
    "import numpy as np\n",
    "from scipy.optimize import fsolve\n",
    "\n",
    "def characteristic_method(A):\n",
    "    n = A.shape[0]\n",
    "    \n",
    "    # Характеристическая функция\n",
    "    def char_eq(lmbda):\n",
    "        return np.linalg.det(A - lmbda * np.eye(n))\n",
    "    \n",
    "    # Находим приближенные корни характеристического уравнения\n",
    "    eigvals_approx = np.linalg.eigvals(A)\n",
    "    eigvals = [fsolve(char_eq, val)[0] for val in eigvals_approx]\n",
    "    \n",
    "    eigvecs = []\n",
    "    for val in eigvals:\n",
    "        # Решаем систему уравнений (A - lambda*I)v = 0\n",
    "        _, _, V = np.linalg.svd(A - val * np.eye(n))\n",
    "        eigvecs.append(V.T[:, -1])\n",
    "    \n",
    "    # Нормализация собственных векторов\n",
    "    eigvecs = [vec/np.linalg.norm(vec) for vec in eigvecs]\n",
    "\n",
    "    return eigvals, eigvecs"
   ],
   "metadata": {
    "collapsed": false,
    "ExecuteTime": {
     "end_time": "2023-10-19T10:31:05.074632598Z",
     "start_time": "2023-10-19T10:31:04.805397899Z"
    }
   },
   "id": "2bde46679a315982"
  },
  {
   "cell_type": "markdown",
   "source": [
    "# Метод итераций"
   ],
   "metadata": {
    "collapsed": false
   },
   "id": "a685a003906df53a"
  },
  {
   "cell_type": "code",
   "execution_count": 17,
   "outputs": [],
   "source": [
    "\n",
    "def power_iteration(A, max_iter=1000, tol=1e-6):\n",
    "    x0 = np.random.rand(A.shape[0])\n",
    "    \n",
    "    norm_x0 = np.sqrt(np.sum(x0**2))\n",
    "    x0 = x0 / norm_x0\n",
    "\n",
    "    for _ in range(max_iter):\n",
    "        y = np.dot(A, x0)\n",
    "        lambda_ = np.dot(x0, y)\n",
    "        \n",
    "        norm_y = np.sqrt(np.sum(y**2))\n",
    "        x1 = y / norm_y\n",
    "        \n",
    "        if np.linalg.norm(x1 - x0) < tol:\n",
    "            break\n",
    "        x0 = x1\n",
    "\n",
    "    return lambda_, x1\n"
   ],
   "metadata": {
    "collapsed": false,
    "ExecuteTime": {
     "end_time": "2023-10-19T10:31:58.713453425Z",
     "start_time": "2023-10-19T10:31:58.662073196Z"
    }
   },
   "id": "17287edba2e85b58"
  },
  {
   "cell_type": "markdown",
   "source": [
    "# Метод вращения"
   ],
   "metadata": {
    "collapsed": false
   },
   "id": "6f42458e0599ada5"
  },
  {
   "cell_type": "code",
   "execution_count": 13,
   "outputs": [],
   "source": [
    "def jacobi_rotation(A, max_iter=1000, tol=1e-6):\n",
    "    n = A.shape[0]\n",
    "    V = np.eye(n)\n",
    "    \n",
    "    for _ in range(max_iter):\n",
    "        p, q = np.unravel_index(np.abs(np.triu(A, 1)).argmax(), A.shape)\n",
    "        \n",
    "        if abs(A[p, q]) < tol:\n",
    "            break\n",
    "        \n",
    "        if A[p, p] == A[q, q]:\n",
    "            phi = np.pi / 4 if A[p, q] > 0 else -np.pi / 4\n",
    "        else:\n",
    "            tau = (A[p, p] - A[q, q]) / (2 * A[p, q])\n",
    "            t = np.sign(tau) / (abs(tau) + np.sqrt(1 + tau**2))\n",
    "            phi = np.arctan(t) / 2\n",
    "        \n",
    "        c = np.cos(phi)\n",
    "        s = np.sin(phi)\n",
    "        \n",
    "        G = np.eye(n)\n",
    "        G[p, p], G[q, q], G[p, q], G[q, p] = c, c, -s, s\n",
    "        \n",
    "        A = np.dot(G.T, np.dot(A, G))\n",
    "        V = np.dot(V, G)\n",
    "        \n",
    "    return np.diagonal(A), V\n"
   ],
   "metadata": {
    "collapsed": false,
    "ExecuteTime": {
     "end_time": "2023-10-19T10:21:12.917753445Z",
     "start_time": "2023-10-19T10:21:12.872490977Z"
    }
   },
   "id": "a84a6f54410fd8fa"
  },
  {
   "cell_type": "code",
   "execution_count": 18,
   "outputs": [
    {
     "name": "stdout",
     "output_type": "stream",
     "text": [
      "Метод характеристического уравнения:\n",
      "Собственные значения: [7.048917339522306, 2.6431041321077906, 2.307978528369904]\n",
      "Собственные векторы: [array([-0.73697623, -0.59100905, -0.32798528]), array([ 0.59100905, -0.32798528, -0.73697623]), array([-0.32798528,  0.73697623, -0.59100905])]\n",
      "\n",
      "Метод итераций:\n",
      "Максимальное по модулю собственное значение: 7.048917339511715\n",
      "Соответствующий собственный вектор: [0.73697585 0.59100934 0.32798559]\n",
      "\n",
      "Метод вращения:\n",
      "Собственные значения: [7.04891734 2.30797853 2.64310413]\n",
      "Собственные векторы: [[ 0.73697636 -0.32798649 -0.59100821]\n",
      " [ 0.59100889  0.73697705  0.32798372]\n",
      " [ 0.32798526 -0.59100736  0.7369776 ]]\n"
     ]
    }
   ],
   "source": [
    "A = np.array([[5, 2, 1],\n",
    "[2, 4, 1],\n",
    "[1, 1, 3]])\n",
    "# Тестирование метода характеристического уравнения\n",
    "eigvals, eigvecs = characteristic_method(A)\n",
    "print(\"Метод характеристического уравнения:\")\n",
    "print(\"Собственные значения:\", eigvals)\n",
    "print(\"Собственные векторы:\", eigvecs)\n",
    "print()\n",
    "# Тестирование метода итераций\n",
    "lambda_, eigvec = power_iteration(A)\n",
    "print(\"Метод итераций:\")\n",
    "print(\"Максимальное по модулю собственное значение:\", lambda_)\n",
    "print(\"Соответствующий собственный вектор:\", eigvec)\n",
    "print()\n",
    "# Тестирование метода вращения\n",
    "eigvals, eigvecs = jacobi_rotation(A)\n",
    "print(\"Метод вращения:\")\n",
    "print(\"Собственные значения:\", eigvals)\n",
    "print(\"Собственные векторы:\", eigvecs)"
   ],
   "metadata": {
    "collapsed": false,
    "ExecuteTime": {
     "end_time": "2023-10-19T10:32:01.461038127Z",
     "start_time": "2023-10-19T10:32:01.438002729Z"
    }
   },
   "id": "edb3ef676854f695"
  }
 ],
 "metadata": {
  "kernelspec": {
   "display_name": "Python 3",
   "language": "python",
   "name": "python3"
  },
  "language_info": {
   "codemirror_mode": {
    "name": "ipython",
    "version": 2
   },
   "file_extension": ".py",
   "mimetype": "text/x-python",
   "name": "python",
   "nbconvert_exporter": "python",
   "pygments_lexer": "ipython2",
   "version": "2.7.6"
  }
 },
 "nbformat": 4,
 "nbformat_minor": 5
}
