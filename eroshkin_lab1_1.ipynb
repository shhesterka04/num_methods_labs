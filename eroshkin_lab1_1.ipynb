{
 "cells": [
  {
   "cell_type": "code",
   "execution_count": 35,
   "metadata": {},
   "outputs": [],
   "source": [
    "from random import randint"
   ]
  },
  {
   "cell_type": "code",
   "execution_count": 36,
   "metadata": {},
   "outputs": [],
   "source": [
    "def f(x):\n",
    "    fx = (x - 2) * (x - 3) * (x - 3) * (x - 7)\n",
    "    return fx"
   ]
  },
  {
   "cell_type": "code",
   "execution_count": 37,
   "metadata": {},
   "outputs": [],
   "source": [
    "def start_approx(interval = 100):\n",
    "    center = randint(-10000, 10000)\n",
    "    x0 = center + interval / 2\n",
    "    x1 = center - interval / 2\n",
    "    while f(x0)*f(x1) > 0:\n",
    "        center = randint(-10000, 10000)\n",
    "        x0 = center + interval / 2\n",
    "        x1 = center - interval / 2\n",
    "    return x0, x1\n"
   ]
  },
  {
   "cell_type": "code",
   "execution_count": 116,
   "metadata": {},
   "outputs": [],
   "source": [
    "def dih(x0, x1, map_iter, eps = 0.01):\n",
    "    for i in range(map_iter):\n",
    "        x2 = (x0 + x1) / 2.0\n",
    "        f_x0 = f(x0)\n",
    "        f_x1 = f(x1)\n",
    "        f_x2 = f(x2)\n",
    "        \n",
    "        if abs(x2 - x1) < eps:\n",
    "            root = x2\n",
    "            break\n",
    "\n",
    "        if f_x0 == 0:\n",
    "            root = x0\n",
    "            break\n",
    "        elif f_x1 == 0:\n",
    "            root = x1\n",
    "            break\n",
    "        \n",
    "        if f_x0 * f_x2 < 0:\n",
    "            x1 = x2\n",
    "        else:\n",
    "            x0 = x2\n",
    "        root = x2\n",
    "        \n",
    "    return root\n"
   ]
  },
  {
   "cell_type": "code",
   "execution_count": 146,
   "metadata": {},
   "outputs": [
    {
     "name": "stdout",
     "output_type": "stream",
     "text": [
      "3.0\n"
     ]
    }
   ],
   "source": [
    "x0, x1 = start_approx()\n",
    "print(dih(x0, x1, map_iter=20, eps = 0.01))"
   ]
  }
 ],
 "metadata": {
  "kernelspec": {
   "display_name": "Python 3.10.2 64-bit",
   "language": "python",
   "name": "python3"
  },
  "language_info": {
   "codemirror_mode": {
    "name": "ipython",
    "version": 3
   },
   "file_extension": ".py",
   "mimetype": "text/x-python",
   "name": "python",
   "nbconvert_exporter": "python",
   "pygments_lexer": "ipython3",
   "version": "3.10.2"
  },
  "orig_nbformat": 4,
  "vscode": {
   "interpreter": {
    "hash": "0d4c5445f656f744e6888ea97c8fbbfcf1b5277270c7dc22b0693003d26d873a"
   }
  }
 },
 "nbformat": 4,
 "nbformat_minor": 2
}
