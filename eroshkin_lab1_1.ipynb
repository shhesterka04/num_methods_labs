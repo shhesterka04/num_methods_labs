{
 "cells": [
  {
   "cell_type": "code",
   "execution_count": 23,
   "metadata": {},
   "outputs": [
    {
     "name": "stdout",
     "output_type": "stream",
     "text": [
      "Итерация 0: x0 = 105.0, x1 = 5.0\n",
      "Итерация 1: x0 = 55.0, x1 = 5.0\n",
      "Итерация 2: x0 = 30.0, x1 = 5.0\n",
      "Итерация 3: x0 = 17.5, x1 = 5.0\n",
      "Итерация 4: x0 = 11.25, x1 = 5.0\n",
      "Итерация 5: x0 = 8.125, x1 = 5.0\n",
      "Итерация 6: x0 = 8.125, x1 = 6.5625\n",
      "Итерация 7: x0 = 7.34375, x1 = 6.5625\n",
      "Итерация 8: x0 = 7.34375, x1 = 6.953125\n",
      "Итерация 9: x0 = 7.1484375, x1 = 6.953125\n",
      "Итерация 10: x0 = 7.05078125, x1 = 6.953125\n",
      "Итерация 11: x0 = 7.001953125, x1 = 6.953125\n",
      "Итерация 12: x0 = 7.001953125, x1 = 6.9775390625\n",
      "Итерация 13: x0 = 7.001953125, x1 = 6.98974609375\n",
      "x = 6.995849609375\n"
     ]
    }
   ],
   "source": [
    "from random import randint\n",
    "\n",
    "def f(x):\n",
    "    \"\"\"Определение функции f(x), корни которой мы хотим найти\"\"\"\n",
    "    return (x - 2) * (x - 3) * (x - 3) * (x - 7)\n",
    "\n",
    "def start_approx(interval=100):\n",
    "    while True:\n",
    "        center = randint(-10000, 10000)\n",
    "        x0 = center + interval / 2\n",
    "        x1 = center - interval / 2\n",
    "        if f(x0) * f(x1) < 0:\n",
    "            return x0, x1\n",
    "\n",
    "def dih(x0, x1, max_iter, eps=0.01):\n",
    "    \"\"\"Реализация метода дихотомии для поиска корня\"\"\"\n",
    "    for i in range(max_iter):\n",
    "        print(f\"Итерация {i}: x0 = {x0}, x1 = {x1}\")\n",
    "\n",
    "        x2 = (x0 + x1) / 2.0\n",
    "\n",
    "        # Вычисляем значения функции на границах интервала и в середине\n",
    "        f_x0 = f(x0)\n",
    "        f_x1 = f(x1)\n",
    "        f_x2 = f(x2)\n",
    "\n",
    "        # Проверяем критерий остановки\n",
    "        if abs(x2 - x1) < eps:\n",
    "            return x2\n",
    "\n",
    "        # Проверяем, равны ли нулю значения функции на границах\n",
    "        if f_x0 == 0:\n",
    "            return x0\n",
    "        elif f_x1 == 0:\n",
    "            return x1\n",
    "\n",
    "        # Обновляем границы интервала\n",
    "        if f_x0 * f_x2 < 0:\n",
    "            x1 = x2\n",
    "        else:\n",
    "            x0 = x2\n",
    "\n",
    "    # Если не нашли корень\n",
    "    return None\n",
    "\n",
    "\n",
    "x0, x1 = start_approx()\n",
    "root = dih(x0, x1, max_iter=20, eps=0.01)\n",
    "print(f\"x = {root}\")\n",
    "\n"
   ]
  },
  {
   "cell_type": "markdown",
   "metadata": {},
   "source": [
    "оваылао"
   ]
  },
  {
   "cell_type": "code",
   "execution_count": 25,
   "metadata": {},
   "outputs": [
    {
     "name": "stdout",
     "output_type": "stream",
     "text": [
      "Решение найдено: x = 2.23606797749979, количество итераций: 3\n"
     ]
    }
   ],
   "source": [
    "def simple_iteration_sqrt(a, x0, max_iter, eps=1e-5):\n",
    "    x = x0\n",
    "    for i in range(max_iter):\n",
    "        x_new = 0.5 * (x + a / x)\n",
    "        \n",
    "        if abs(x_new - x) < eps:\n",
    "            return x_new, i\n",
    "        \n",
    "        x = x_new\n",
    "    \n",
    "    return None, max_iter\n",
    "\n",
    "\n",
    "a = 5\n",
    "x0 = 2\n",
    "max_iter = 20\n",
    "eps = 1e-5\n",
    "\n",
    "x_solution, num_iter = simple_iteration_sqrt(a, x0, max_iter, eps)\n",
    "\n",
    "if x_solution is not None:\n",
    "    print(f\"Решение найдено: x = {x_solution}, количество итераций: {num_iter}\")\n",
    "else:\n",
    "    print(\"Метод не сошёлся\")\n"
   ]
  }
 ],
 "metadata": {
  "kernelspec": {
   "display_name": "Python 3.10.2 64-bit",
   "language": "python",
   "name": "python3"
  },
  "language_info": {
   "codemirror_mode": {
    "name": "ipython",
    "version": 3
   },
   "file_extension": ".py",
   "mimetype": "text/x-python",
   "name": "python",
   "nbconvert_exporter": "python",
   "pygments_lexer": "ipython3",
   "version": "3.10.2"
  },
  "orig_nbformat": 4,
  "vscode": {
   "interpreter": {
    "hash": "0d4c5445f656f744e6888ea97c8fbbfcf1b5277270c7dc22b0693003d26d873a"
   }
  }
 },
 "nbformat": 4,
 "nbformat_minor": 2
}
