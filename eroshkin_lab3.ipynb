{
 "cells": [
  {
   "cell_type": "code",
   "execution_count": 36,
   "outputs": [],
   "source": [
    "import numpy as np"
   ],
   "metadata": {
    "collapsed": false,
    "ExecuteTime": {
     "end_time": "2023-10-06T12:22:08.207141090Z",
     "start_time": "2023-10-06T12:22:08.040225589Z"
    }
   },
   "id": "886ae5e1a787916f"
  },
  {
   "cell_type": "markdown",
   "source": [
    "**Прямые методы**\n",
    "1) Метод Гаусса (Метод единичного деления)"
   ],
   "metadata": {
    "collapsed": false
   },
   "id": "ebc11e3ac511693e"
  },
  {
   "cell_type": "code",
   "execution_count": 37,
   "outputs": [],
   "source": [
    "def gauss_elimination(A, b):\n",
    "    n = len(b)\n",
    "    for k in range(n-1):\n",
    "        for i in range(k+1, n):\n",
    "            factor = A[i,k] / A[k,k]\n",
    "            for j in range(k, n):\n",
    "                A[i,j] -= factor * A[k,j]\n",
    "            b[i] -= factor * b[k]\n",
    "    x = np.zeros(n)\n",
    "    for i in range(n-1, -1, -1):\n",
    "        x[i] = (b[i] - np.dot(A[i,i+1:], x[i+1:])) / A[i,i]\n",
    "    return x\n"
   ],
   "metadata": {
    "collapsed": false,
    "ExecuteTime": {
     "end_time": "2023-10-06T12:22:08.261555382Z",
     "start_time": "2023-10-06T12:22:08.056684207Z"
    }
   },
   "id": "1eee87fa15bc5b33"
  },
  {
   "cell_type": "markdown",
   "source": [
    "2) Метод исключения (прямоугольника)"
   ],
   "metadata": {
    "collapsed": false
   },
   "id": "886b106edc1893a6"
  },
  {
   "cell_type": "code",
   "execution_count": 38,
   "outputs": [],
   "source": [
    "def rectangular_elimination(A, b):\n",
    "    n = len(b)\n",
    "    for k in range(n-1):\n",
    "        for i in range(k+1, n):\n",
    "            factor = A[i,k] / A[k,k]\n",
    "            A[i] = A[i] - factor * A[k]\n",
    "            b[i] = b[i] - factor * b[k]\n",
    "    x = np.linalg.solve(A, b)\n",
    "    return x\n"
   ],
   "metadata": {
    "collapsed": false,
    "ExecuteTime": {
     "end_time": "2023-10-06T12:22:08.273006412Z",
     "start_time": "2023-10-06T12:22:08.073245105Z"
    }
   },
   "id": "4464d215221e69c5"
  },
  {
   "cell_type": "markdown",
   "source": [
    "3) Выбор ведущего элемента по столбцу"
   ],
   "metadata": {
    "collapsed": false
   },
   "id": "99336cd02a354cb"
  },
  {
   "cell_type": "code",
   "execution_count": 39,
   "outputs": [],
   "source": [
    "def partial_pivoting_elimination(A, b):\n",
    "    n = len(b)\n",
    "    \n",
    "    for k in range(n-1):\n",
    "        # Выбор ведущего элемента по столбцу\n",
    "        max_row_index = np.argmax(np.abs(A[k:, k])) + k\n",
    "        A[[k, max_row_index]] = A[[max_row_index, k]]\n",
    "        b[k], b[max_row_index] = b[max_row_index], b[k]\n",
    "        \n",
    "        for i in range(k+1, n):\n",
    "            factor = A[i, k] / A[k, k]\n",
    "            A[i, k:] -= factor * A[k, k:]\n",
    "            b[i] -= factor * b[k]\n",
    "            \n",
    "    # Обратный ход\n",
    "    x = np.zeros(n)\n",
    "    for i in range(n-1, -1, -1):\n",
    "        x[i] = (b[i] - np.dot(A[i, i+1:], x[i+1:])) / A[i, i]\n",
    "        \n",
    "    return x"
   ],
   "metadata": {
    "collapsed": false,
    "ExecuteTime": {
     "end_time": "2023-10-06T12:22:08.275374921Z",
     "start_time": "2023-10-06T12:22:08.080558134Z"
    }
   },
   "id": "aa96ec817e7ade2"
  },
  {
   "cell_type": "markdown",
   "source": [
    "4) Метод прогонки"
   ],
   "metadata": {
    "collapsed": false
   },
   "id": "a0309b184635e39d"
  },
  {
   "cell_type": "code",
   "execution_count": 40,
   "outputs": [],
   "source": [
    "def tridiagonal_solve(a, b, c, d):\n",
    "    n = len(d)\n",
    "    c_ = np.zeros(n-1)\n",
    "    d_ = np.zeros(n)\n",
    "    x = np.zeros(n)\n",
    "    c_[0] = c[0] / b[0]\n",
    "    d_[0] = d[0] / b[0]\n",
    "    for i in range(1, n-1):\n",
    "        c_[i] = c[i] / (b[i] - a[i-1]*c_[i-1])\n",
    "    for i in range(1, n):\n",
    "        d_[i] = (d[i] - a[i-1]*d_[i-1]) / (b[i] - a[i-1]*c_[i-1])\n",
    "    x[-1] = d_[-1]\n",
    "    for i in range(n-2, -1, -1):\n",
    "        x[i] = d_[i] - c_[i] * x[i+1]\n",
    "    return x"
   ],
   "metadata": {
    "collapsed": false,
    "ExecuteTime": {
     "end_time": "2023-10-06T12:22:08.304086399Z",
     "start_time": "2023-10-06T12:22:08.092659845Z"
    }
   },
   "id": "915f72b20b09bae0"
  },
  {
   "cell_type": "markdown",
   "source": [
    "5) LU-разложение"
   ],
   "metadata": {
    "collapsed": false
   },
   "id": "b06b695fcd91a04d"
  },
  {
   "cell_type": "code",
   "execution_count": 41,
   "outputs": [],
   "source": [
    "def LU_decomposition(A):\n",
    "    n = len(A)\n",
    "    L = np.eye(n)\n",
    "    U = np.zeros((n, n))\n",
    "    for i in range(n):\n",
    "        for j in range(i, n):\n",
    "            U[i,j] = A[i,j] - sum(L[i,k] * U[k,j] for k in range(i))\n",
    "            if i != j:\n",
    "                L[j,i] = (A[j,i] - sum(L[j,k] * U[k,i] for k in range(i))) / U[i,i]\n",
    "    return L, U\n",
    "\n",
    "def LU_solve(L, U, b):\n",
    "    n = len(b)\n",
    "    y = np.zeros(n)\n",
    "    x = np.zeros(n)\n",
    "    for i in range(n):\n",
    "        y[i] = b[i] - sum(L[i,j] * y[j] for j in range(i))\n",
    "    for i in range(n-1, -1, -1):\n",
    "        x[i] = (y[i] - sum(U[i,j] * x[j] for j in range(i+1, n))) / U[i,i]\n",
    "    return x"
   ],
   "metadata": {
    "collapsed": false,
    "ExecuteTime": {
     "end_time": "2023-10-06T12:22:08.304864972Z",
     "start_time": "2023-10-06T12:22:08.134989884Z"
    }
   },
   "id": "8f8fa4692f953de5"
  },
  {
   "cell_type": "markdown",
   "source": [
    "**Итерационные методы**\n",
    "1) Метод простых итераций"
   ],
   "metadata": {
    "collapsed": false
   },
   "id": "1ef620424c983c04"
  },
  {
   "cell_type": "code",
   "execution_count": 42,
   "outputs": [],
   "source": [
    "def simple_iterations(A, b, tol=1e-10, max_iter=1000):\n",
    "    n = len(b)\n",
    "    x = np.zeros(n)\n",
    "    for _ in range(max_iter):\n",
    "        x_new = np.dot(np.linalg.inv(A), b)\n",
    "        if np.linalg.norm(x_new - x, np.inf) < tol:\n",
    "            return x_new\n",
    "        x = x_new\n",
    "    return x"
   ],
   "metadata": {
    "collapsed": false,
    "ExecuteTime": {
     "end_time": "2023-10-06T12:22:08.320894841Z",
     "start_time": "2023-10-06T12:22:08.135622948Z"
    }
   },
   "id": "2f46e95e64b8c228"
  },
  {
   "cell_type": "markdown",
   "source": [
    "2) Метод Зейделя"
   ],
   "metadata": {
    "collapsed": false
   },
   "id": "c0a0b45a646d20ce"
  },
  {
   "cell_type": "code",
   "execution_count": 43,
   "outputs": [],
   "source": [
    "def seidel(A, b, tol=1e-10, max_iter=1000):\n",
    "    n = len(b)\n",
    "    x = np.zeros(n)\n",
    "    L = np.tril(A)\n",
    "    U = A - L\n",
    "    for _ in range(max_iter):\n",
    "        x_new = np.dot(np.linalg.inv(L), b - np.dot(U, x))\n",
    "        if np.linalg.norm(x_new - x, np.inf) < tol:\n",
    "            return x_new\n",
    "        x = x_new\n",
    "    return x"
   ],
   "metadata": {
    "collapsed": false,
    "ExecuteTime": {
     "end_time": "2023-10-06T12:22:08.321729581Z",
     "start_time": "2023-10-06T12:22:08.136029608Z"
    }
   },
   "id": "d4eca8760b7b6441"
  },
  {
   "cell_type": "markdown",
   "source": [
    "**Тестирование**"
   ],
   "metadata": {
    "collapsed": false
   },
   "id": "7d55ea52babb5163"
  },
  {
   "cell_type": "code",
   "execution_count": 44,
   "outputs": [
    {
     "name": "stdout",
     "output_type": "stream",
     "text": [
      "Метод Гаусса: [1. 1. 1.]\n",
      "Метод исключения: [1. 1. 1.]\n",
      "Выбор ведущего элемента по столбцу: [1. 1. 1.]\n",
      "LU-разложение: [1. 1. 1.]\n",
      "Метод простых итераций: [1. 1. 1.]\n",
      "Метод Зейделя: [1. 1. 1.]\n"
     ]
    }
   ],
   "source": [
    "A = np.array([[4, 1, 0], [1, 4, 1], [0, 1, 4]])\n",
    "b = np.array([5, 6, 5])\n",
    "\n",
    "print(\"Метод Гаусса:\", gauss_elimination(A.copy(), b.copy()))\n",
    "print(\"Метод исключения:\", rectangular_elimination(A.copy(), b.copy()))\n",
    "print(\"Выбор ведущего элемента по столбцу:\", rectangular_elimination(A.copy(), b.copy()))\n",
    "\n",
    "L, U = LU_decomposition(A.copy())\n",
    "print(\"LU-разложение:\", LU_solve(L, U, b.copy()))\n",
    "\n",
    "print(\"Метод простых итераций:\", simple_iterations(A.copy(), b.copy()))\n",
    "print(\"Метод Зейделя:\", seidel(A.copy(), b.copy()))"
   ],
   "metadata": {
    "collapsed": false,
    "ExecuteTime": {
     "end_time": "2023-10-06T12:22:08.322273613Z",
     "start_time": "2023-10-06T12:22:08.143959648Z"
    }
   },
   "id": "5709e35ffa5b309e"
  }
 ],
 "metadata": {
  "kernelspec": {
   "display_name": "Python 3",
   "language": "python",
   "name": "python3"
  },
  "language_info": {
   "codemirror_mode": {
    "name": "ipython",
    "version": 2
   },
   "file_extension": ".py",
   "mimetype": "text/x-python",
   "name": "python",
   "nbconvert_exporter": "python",
   "pygments_lexer": "ipython2",
   "version": "2.7.6"
  }
 },
 "nbformat": 4,
 "nbformat_minor": 5
}
