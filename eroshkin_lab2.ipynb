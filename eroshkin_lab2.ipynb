{
 "cells": [
  {
   "cell_type": "code",
   "execution_count": 1,
   "metadata": {},
   "outputs": [],
   "source": [
    "import numpy as np\n",
    "import math"
   ]
  },
  {
   "cell_type": "markdown",
   "metadata": {},
   "source": [
    "### Численный расчет производной"
   ]
  },
  {
   "cell_type": "code",
   "execution_count": 6,
   "metadata": {},
   "outputs": [
    {
     "name": "stdout",
     "output_type": "stream",
     "text": [
      "[2, 2, 12]\n"
     ]
    }
   ],
   "source": [
    "def poly_differentiate(coefficients):\n",
    "    \"\"\"Возвращает коэффициенты производной алгебраической функции.\"\"\"\n",
    "    \n",
    "    # Если список коэффициентов пуст или содержит только один элемент, возвращаем пустой список\n",
    "    if len(coefficients) <= 1:\n",
    "        return []\n",
    "    \n",
    "    # Иначе, вычисляем производные для каждого коэффициента\n",
    "    new_coefficients = []\n",
    "    for i in range(1, len(coefficients)):\n",
    "        new_coefficients.append(i * coefficients[i])\n",
    "    \n",
    "    return new_coefficients\n",
    "\n",
    "# Пример использования:\n",
    "coefficients = [3, 2, 1, 4] # 3 + 2x + x^2 + 4x^3\n",
    "print(poly_differentiate(coefficients)) # Ожидаем [2, 2, 12]\n"
   ]
  },
  {
   "cell_type": "code",
   "execution_count": 7,
   "metadata": {},
   "outputs": [
    {
     "name": "stdout",
     "output_type": "stream",
     "text": [
      "0.7071032456340552\n"
     ]
    }
   ],
   "source": [
    "def numerical_derivative(f, x, h=1e-5):\n",
    "    \"\"\"Возвращает приближенное значение производной функции f в точке x.\"\"\"\n",
    "    \n",
    "    return (f(x + h) - f(x)) / h\n",
    "\n",
    "def poly_function(coefficients, x):\n",
    "    \"\"\"Вычисляет значение полинома в точке x.\"\"\"\n",
    "    return sum([coefficients[i] * x**i for i in range(len(coefficients))])\n",
    "\n",
    "\n",
    "def my_function(x):\n",
    "    return math.sin(x)\n",
    "\n",
    "x_value = math.pi / 4\n",
    "print(numerical_derivative(my_function, x_value))\n",
    "\n"
   ]
  },
  {
   "cell_type": "markdown",
   "metadata": {},
   "source": [
    "### Метод Ньютона для решения нелинейных уравнений"
   ]
  },
  {
   "cell_type": "code",
   "execution_count": 9,
   "metadata": {},
   "outputs": [
    {
     "name": "stdout",
     "output_type": "stream",
     "text": [
      "1.4142135623746899\n",
      "4.510614104447086e-12\n"
     ]
    }
   ],
   "source": [
    "\n",
    "\n",
    "def newton_method_for_poly(coefficients, x0, tol=1e-5, max_iterations=1000):\n",
    "    \"\"\"Находит корень полинома с помощью метода Ньютона.\"\"\"\n",
    "    \n",
    "    f = lambda x: poly_function(coefficients, x)\n",
    "    df = lambda x: poly_function(poly_differentiate(coefficients), x)\n",
    "    \n",
    "    x = x0\n",
    "    for _ in range(max_iterations):\n",
    "        x_new = x - f(x) / df(x)\n",
    "        \n",
    "        # Если разница между текущим и новым приближением меньше tol, то возвращаем x_new\n",
    "        if abs(x_new - x) < tol:\n",
    "            return x_new\n",
    "        \n",
    "        x = x_new\n",
    "    \n",
    "    # Если метод не сошелся после max_iterations итераций\n",
    "    raise ValueError(\"Метод Ньютона не сошелся после {} итераций\".format(max_iterations))\n",
    "\n",
    "\n",
    "coefficients = [-2, 0, 1] # x^2 - 2\n",
    "initial_guess = 1.5\n",
    "root = newton_method_for_poly(coefficients, initial_guess)\n",
    "print(root)\n",
    "print(poly_function(coefficients, root)) # Должно быть близко к нулю\n"
   ]
  },
  {
   "cell_type": "markdown",
   "metadata": {},
   "source": [
    "### Упрощенный метод Ньютона для решения нелинейных уравнений"
   ]
  },
  {
   "cell_type": "code",
   "execution_count": 13,
   "metadata": {},
   "outputs": [
    {
     "name": "stdout",
     "output_type": "stream",
     "text": [
      "1.4142140143057242\n",
      "1.2782587113235877e-06\n"
     ]
    }
   ],
   "source": [
    "def simplified_newton_method(f, df, x0, tol=1e-5, max_iterations=1000):\n",
    "    \"\"\"Находит корень функции f(x) с помощью упрощенного метода Ньютона.\"\"\"\n",
    "    \n",
    "    dfx0 = df(x0)\n",
    "    x = x0\n",
    "    for _ in range(max_iterations):\n",
    "        x_new = x - f(x) / dfx0\n",
    "        \n",
    "        # Если разница между текущим и новым приближением меньше tol, то возвращаем x_new\n",
    "        if abs(x_new - x) < tol:\n",
    "            return x_new\n",
    "        \n",
    "        x = x_new\n",
    "    \n",
    "    # Если метод не сошелся после max_iterations итераций\n",
    "    raise ValueError(\"Упрощенный метод Ньютона не сошелся после {} итераций\".format(max_iterations))\n",
    "\n",
    "def f(x):\n",
    "    return x**2 - 2\n",
    "\n",
    "def df(x):\n",
    "    return 2*x\n",
    "\n",
    "initial_guess = 1.5\n",
    "root = simplified_newton_method(f, df, initial_guess)\n",
    "print(root)\n",
    "print(f(root)) # Должно быть близко к нулю\n"
   ]
  },
  {
   "cell_type": "markdown",
   "metadata": {},
   "source": [
    "### Метод Ньютона-Бройдена"
   ]
  },
  {
   "cell_type": "code",
   "execution_count": 14,
   "metadata": {},
   "outputs": [
    {
     "name": "stdout",
     "output_type": "stream",
     "text": [
      "3.141592653589793\n",
      "1.2246467991473532e-16\n"
     ]
    }
   ],
   "source": [
    "def newton_broyden_method(f, x0, df0, tol=1e-5, max_iterations=1000):\n",
    "    x_old = x0\n",
    "    df_old = df0\n",
    "\n",
    "    for _ in range(max_iterations):\n",
    "        if abs(df_old) < tol:  # предотвратить деление на ноль\n",
    "            raise ValueError(\"Производная близка к нулю. Метод может не сойтись.\")\n",
    "\n",
    "        x_new = x_old - f(x_old) / df_old\n",
    "        if abs(x_new - x_old) < tol:\n",
    "            return x_new\n",
    "\n",
    "        # Обновление приближенной производной\n",
    "        df_new = df_old + (f(x_new) - f(x_old)) / (x_new - x_old) - df_old\n",
    "\n",
    "        x_old, df_old = x_new, df_new\n",
    "\n",
    "    raise ValueError(\"Метод Ньютона-Бройдена не сошелся после {} итераций\".format(max_iterations))\n",
    "\n",
    "\n",
    "def my_function(x):\n",
    "    return math.sin(x)\n",
    "\n",
    "initial_df = 1.0\n",
    "initial_guess = 3.0\n",
    "\n",
    "root = newton_broyden_method(my_function, initial_guess, initial_df)\n",
    "print(root)\n",
    "print(my_function(root)) "
   ]
  },
  {
   "cell_type": "markdown",
   "metadata": {},
   "source": [
    "### Метод секущих"
   ]
  },
  {
   "cell_type": "code",
   "execution_count": 16,
   "metadata": {},
   "outputs": [],
   "source": [
    "def secant_method(f, x0, x1, tol=1e-5, max_iterations=1000):\n",
    "    \"\"\"Находит корень функции f с помощью метода секущих.\"\"\"\n",
    "    \n",
    "    for _ in range(max_iterations):\n",
    "        # Рассчитываем новое приближение\n",
    "        x2 = x1 - f(x1) * (x1 - x0) / (f(x1) - f(x0))\n",
    "        \n",
    "        # Если разница между новым и предыдущим приближением меньше tol, то возвращаем x2\n",
    "        if abs(x2 - x1) < tol:\n",
    "            return x2\n",
    "        \n",
    "        # Обновляем значения x0 и x1 для следующей итерации\n",
    "        x0, x1 = x1, x2\n",
    "    \n",
    "    # Если метод не сошелся после max_iterations итераций\n",
    "    raise ValueError(\"Метод секущих не сошелся после {} итераций\".format(max_iterations))"
   ]
  },
  {
   "cell_type": "code",
   "execution_count": 19,
   "metadata": {},
   "outputs": [
    {
     "data": {
      "text/plain": [
       "(1.4142135620573204,\n",
       " -8.931455575122982e-10,\n",
       " 3.141592653589793,\n",
       " 1.2246467991473532e-16)"
      ]
     },
     "execution_count": 19,
     "metadata": {},
     "output_type": "execute_result"
    }
   ],
   "source": [
    "def my_function(x):\n",
    "    return math.sin(x)\n",
    "\n",
    "# Пример использования для алгебраической функции:\n",
    "coefficients_example = [-2, 0, 1] # x^2 - 2\n",
    "initial_guess_0 = 1.0\n",
    "initial_guess_1 = 1.5\n",
    "root_poly = secant_method(lambda x: poly_function(coefficients_example, x), initial_guess_0, initial_guess_1)\n",
    "\n",
    "# Пример использования для неалгебраической функции:\n",
    "root_sin = secant_method(my_function, 2.5, 3.5)\n",
    "\n",
    "root_poly, poly_function(coefficients_example, root_poly), root_sin, my_function(root_sin)\n",
    "\n",
    "# Пример использования для алгебраической функции:\n",
    "root_poly = secant_method(lambda x: poly_function(coefficients_example, x), initial_guess_0, initial_guess_1)\n",
    "\n",
    "# Пример использования для неалгебраической функции:\n",
    "root_sin = secant_method(my_function, 2.5, 3.5)\n",
    "\n",
    "root_poly, poly_function(coefficients_example, root_poly), root_sin, my_function(root_sin)\n"
   ]
  }
 ],
 "metadata": {
  "kernelspec": {
   "display_name": "Python 3.10.2 64-bit",
   "language": "python",
   "name": "python3"
  },
  "language_info": {
   "codemirror_mode": {
    "name": "ipython",
    "version": 3
   },
   "file_extension": ".py",
   "mimetype": "text/x-python",
   "name": "python",
   "nbconvert_exporter": "python",
   "pygments_lexer": "ipython3",
   "version": "3.10.2"
  },
  "orig_nbformat": 4,
  "vscode": {
   "interpreter": {
    "hash": "0d4c5445f656f744e6888ea97c8fbbfcf1b5277270c7dc22b0693003d26d873a"
   }
  }
 },
 "nbformat": 4,
 "nbformat_minor": 2
}
